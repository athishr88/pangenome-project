{
 "cells": [
  {
   "cell_type": "code",
   "execution_count": 1,
   "metadata": {},
   "outputs": [],
   "source": [
    "import sys\n",
    "import os\n",
    "from hydra.core.global_hydra import GlobalHydra\n",
    "from hydra import initialize, compose\n",
    "from omegaconf import OmegaConf\n",
    "\n",
    "# os.chdir(\"..\")\n",
    "sys.path.append(\"src\")\n",
    "\n",
    "GlobalHydra.instance().clear()\n",
    "\n",
    "initialize(config_path=\"configs\", version_base=None)\n",
    "\n",
    "cfg = compose(config_name=\"windowed\")"
   ]
  },
  {
   "cell_type": "code",
   "execution_count": 2,
   "metadata": {},
   "outputs": [],
   "source": [
    "import pandas as pd\n",
    "\n",
    "\n",
    "def _config_files_prepare():\n",
    "    y_file = cfg.preprocessing.dataset.serotype_file_path\n",
    "    df = pd.read_csv(y_file)\n",
    "    # Remove the rows in which the Serotype value is 0\n",
    "    df = df[df['Serotype'] != '0']\n",
    "    df = df[df['Serotype'] != '---']\n",
    "    top_n = cfg.preprocessing.dataset.top_n\n",
    "    top_serotypes = df['Serotype'].value_counts().head(top_n).index.tolist()\n",
    "    cfg.preprocessing.dataset.classes = top_serotypes\n",
    "\n",
    "_config_files_prepare()"
   ]
  },
  {
   "cell_type": "code",
   "execution_count": 3,
   "metadata": {},
   "outputs": [],
   "source": [
    "from src.preprocessing.windowed import TFRWindowedDataset\n",
    "\n",
    "TFRWindowedDataset.initialize_data(cfg)"
   ]
  },
  {
   "cell_type": "code",
   "execution_count": 4,
   "metadata": {},
   "outputs": [],
   "source": [
    "train_dataset = TFRWindowedDataset('train')"
   ]
  },
  {
   "cell_type": "code",
   "execution_count": 5,
   "metadata": {},
   "outputs": [
    {
     "data": {
      "text/plain": [
       "([68948,\n",
       "  68949,\n",
       "  68950,\n",
       "  68951,\n",
       "  68952,\n",
       "  68953,\n",
       "  68954,\n",
       "  68955,\n",
       "  68956,\n",
       "  68957,\n",
       "  68958,\n",
       "  -1,\n",
       "  -1,\n",
       "  -1,\n",
       "  -1,\n",
       "  -1,\n",
       "  -1,\n",
       "  -1,\n",
       "  -1,\n",
       "  -1,\n",
       "  -1,\n",
       "  -1,\n",
       "  -1,\n",
       "  -1,\n",
       "  -1,\n",
       "  -1,\n",
       "  -1,\n",
       "  -1,\n",
       "  -1,\n",
       "  -1,\n",
       "  -1,\n",
       "  -1,\n",
       "  -1,\n",
       "  -1],\n",
       " [0.0,\n",
       "  0.0,\n",
       "  0.0,\n",
       "  0.0,\n",
       "  0.0,\n",
       "  0.0,\n",
       "  0.0,\n",
       "  0.0,\n",
       "  0.0,\n",
       "  0.0,\n",
       "  0.0,\n",
       "  22.0,\n",
       "  22.0,\n",
       "  22.0,\n",
       "  22.0,\n",
       "  22.0,\n",
       "  22.0,\n",
       "  22.0,\n",
       "  22.0,\n",
       "  22.0,\n",
       "  22.0,\n",
       "  22.0,\n",
       "  22.0,\n",
       "  22.0,\n",
       "  22.0,\n",
       "  22.0,\n",
       "  22.0,\n",
       "  22.0,\n",
       "  22.0,\n",
       "  22.0,\n",
       "  22.0,\n",
       "  22.0,\n",
       "  22.0,\n",
       "  22.0],\n",
       " 1)"
      ]
     },
     "execution_count": 5,
     "metadata": {},
     "output_type": "execute_result"
    }
   ],
   "source": [
    "train_dataset[0]"
   ]
  },
  {
   "cell_type": "code",
   "execution_count": 3,
   "metadata": {},
   "outputs": [],
   "source": [
    "from sklearn.datasets import load_digits\n",
    "digits = load_digits()"
   ]
  },
  {
   "cell_type": "code",
   "execution_count": 10,
   "metadata": {},
   "outputs": [
    {
     "data": {
      "text/plain": [
       "(1797, 64)"
      ]
     },
     "execution_count": 10,
     "metadata": {},
     "output_type": "execute_result"
    }
   ],
   "source": [
    "digits.data.shape"
   ]
  }
 ],
 "metadata": {
  "kernelspec": {
   "display_name": "biocs",
   "language": "python",
   "name": "python3"
  },
  "language_info": {
   "codemirror_mode": {
    "name": "ipython",
    "version": 3
   },
   "file_extension": ".py",
   "mimetype": "text/x-python",
   "name": "python",
   "nbconvert_exporter": "python",
   "pygments_lexer": "ipython3",
   "version": "3.12.2"
  }
 },
 "nbformat": 4,
 "nbformat_minor": 2
}
