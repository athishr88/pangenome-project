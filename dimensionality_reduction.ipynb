{
 "cells": [
  {
   "cell_type": "code",
   "execution_count": 1,
   "metadata": {},
   "outputs": [],
   "source": [
    "import sys\n",
    "import os\n",
    "from hydra.core.global_hydra import GlobalHydra\n",
    "from hydra import initialize, compose\n",
    "from omegaconf import OmegaConf\n",
    "\n",
    "# os.chdir(\"..\")\n",
    "sys.path.append(\"src\")\n",
    "\n",
    "GlobalHydra.instance().clear()\n",
    "\n",
    "initialize(config_path=\"configs\", version_base=None)\n",
    "\n",
    "cfg = compose(config_name=\"config_partial\")"
   ]
  },
  {
   "cell_type": "code",
   "execution_count": 2,
   "metadata": {},
   "outputs": [],
   "source": [
    "from preprocessing.dimensionality_reduction import TFRSubsetPartialDataset"
   ]
  },
  {
   "cell_type": "code",
   "execution_count": 3,
   "metadata": {},
   "outputs": [
    {
     "name": "stderr",
     "output_type": "stream",
     "text": [
      "/home/athishramdas/Desktop/Pangenome/pangenome-project/src/preprocessing/dimensionality_reduction.py:36: SettingWithCopyWarning: \n",
      "A value is trying to be set on a copy of a slice from a DataFrame.\n",
      "Try using .loc[row_indexer,col_indexer] = value instead\n",
      "\n",
      "See the caveats in the documentation: https://pandas.pydata.org/pandas-docs/stable/user_guide/indexing.html#returning-a-view-versus-a-copy\n",
      "  df_filtered['serotype_encoded'] = le.fit_transform(df_filtered['Serotype'])\n"
     ]
    }
   ],
   "source": [
    "TFRSubsetPartialDataset.initialize_data(cfg)"
   ]
  },
  {
   "cell_type": "code",
   "execution_count": 5,
   "metadata": {},
   "outputs": [],
   "source": [
    "dataset = TFRSubsetPartialDataset.from_split(\"train\", 20)"
   ]
  },
  {
   "cell_type": "code",
   "execution_count": 6,
   "metadata": {},
   "outputs": [
    {
     "data": {
      "text/html": [
       "<div>\n",
       "<style scoped>\n",
       "    .dataframe tbody tr th:only-of-type {\n",
       "        vertical-align: middle;\n",
       "    }\n",
       "\n",
       "    .dataframe tbody tr th {\n",
       "        vertical-align: top;\n",
       "    }\n",
       "\n",
       "    .dataframe thead th {\n",
       "        text-align: right;\n",
       "    }\n",
       "</style>\n",
       "<table border=\"1\" class=\"dataframe\">\n",
       "  <thead>\n",
       "    <tr style=\"text-align: right;\">\n",
       "      <th></th>\n",
       "      <th>SRA_ACCESSION_NUMBER</th>\n",
       "      <th>Serotype</th>\n",
       "      <th>Src_file</th>\n",
       "      <th>serotype_encoded</th>\n",
       "    </tr>\n",
       "  </thead>\n",
       "  <tbody>\n",
       "    <tr>\n",
       "      <th>0</th>\n",
       "      <td>DRR002276</td>\n",
       "      <td>Typhimurium</td>\n",
       "      <td>53</td>\n",
       "      <td>9</td>\n",
       "    </tr>\n",
       "    <tr>\n",
       "      <th>1</th>\n",
       "      <td>DRR002277</td>\n",
       "      <td>Typhimurium</td>\n",
       "      <td>53</td>\n",
       "      <td>9</td>\n",
       "    </tr>\n",
       "    <tr>\n",
       "      <th>2</th>\n",
       "      <td>DRR002278</td>\n",
       "      <td>Typhimurium</td>\n",
       "      <td>53</td>\n",
       "      <td>9</td>\n",
       "    </tr>\n",
       "    <tr>\n",
       "      <th>3</th>\n",
       "      <td>DRR002279</td>\n",
       "      <td>Typhimurium</td>\n",
       "      <td>53</td>\n",
       "      <td>9</td>\n",
       "    </tr>\n",
       "    <tr>\n",
       "      <th>4</th>\n",
       "      <td>DRR002280</td>\n",
       "      <td>Infantis</td>\n",
       "      <td>53</td>\n",
       "      <td>2</td>\n",
       "    </tr>\n",
       "    <tr>\n",
       "      <th>...</th>\n",
       "      <td>...</td>\n",
       "      <td>...</td>\n",
       "      <td>...</td>\n",
       "      <td>...</td>\n",
       "    </tr>\n",
       "    <tr>\n",
       "      <th>544979</th>\n",
       "      <td>SRR9999913</td>\n",
       "      <td>Enteritidis</td>\n",
       "      <td>30</td>\n",
       "      <td>0</td>\n",
       "    </tr>\n",
       "    <tr>\n",
       "      <th>544982</th>\n",
       "      <td>SRR9999929</td>\n",
       "      <td>Infantis</td>\n",
       "      <td>30</td>\n",
       "      <td>2</td>\n",
       "    </tr>\n",
       "    <tr>\n",
       "      <th>544983</th>\n",
       "      <td>SRR9999930</td>\n",
       "      <td>Newport</td>\n",
       "      <td>30</td>\n",
       "      <td>6</td>\n",
       "    </tr>\n",
       "    <tr>\n",
       "      <th>544984</th>\n",
       "      <td>SRR9999931</td>\n",
       "      <td>Enteritidis</td>\n",
       "      <td>30</td>\n",
       "      <td>0</td>\n",
       "    </tr>\n",
       "    <tr>\n",
       "      <th>544987</th>\n",
       "      <td>SRR9999934</td>\n",
       "      <td>Newport</td>\n",
       "      <td>30</td>\n",
       "      <td>6</td>\n",
       "    </tr>\n",
       "  </tbody>\n",
       "</table>\n",
       "<p>317141 rows × 4 columns</p>\n",
       "</div>"
      ],
      "text/plain": [
       "       SRA_ACCESSION_NUMBER     Serotype  Src_file  serotype_encoded\n",
       "0                 DRR002276  Typhimurium        53                 9\n",
       "1                 DRR002277  Typhimurium        53                 9\n",
       "2                 DRR002278  Typhimurium        53                 9\n",
       "3                 DRR002279  Typhimurium        53                 9\n",
       "4                 DRR002280     Infantis        53                 2\n",
       "...                     ...          ...       ...               ...\n",
       "544979           SRR9999913  Enteritidis        30                 0\n",
       "544982           SRR9999929     Infantis        30                 2\n",
       "544983           SRR9999930      Newport        30                 6\n",
       "544984           SRR9999931  Enteritidis        30                 0\n",
       "544987           SRR9999934      Newport        30                 6\n",
       "\n",
       "[317141 rows x 4 columns]"
      ]
     },
     "execution_count": 6,
     "metadata": {},
     "output_type": "execute_result"
    }
   ],
   "source": [
    "dataset.tfr_sample_ys_df"
   ]
  },
  {
   "cell_type": "code",
   "execution_count": 8,
   "metadata": {},
   "outputs": [
    {
     "data": {
      "text/plain": [
       "200"
      ]
     },
     "execution_count": 8,
     "metadata": {},
     "output_type": "execute_result"
    }
   ],
   "source": [
    "len(dataset._get_bottom_n_indices())"
   ]
  },
  {
   "cell_type": "code",
   "execution_count": 10,
   "metadata": {},
   "outputs": [
    {
     "data": {
      "text/plain": [
       "400"
      ]
     },
     "execution_count": 10,
     "metadata": {},
     "output_type": "execute_result"
    }
   ],
   "source": [
    "len(dataset._get_top_and_bottom_n_indices())"
   ]
  },
  {
   "cell_type": "code",
   "execution_count": 11,
   "metadata": {},
   "outputs": [],
   "source": [
    "# os.chdir(\"..\")\n",
    "\n",
    "data1 = dataset[1]"
   ]
  },
  {
   "cell_type": "code",
   "execution_count": 13,
   "metadata": {},
   "outputs": [
    {
     "data": {
      "text/plain": [
       "(400,)"
      ]
     },
     "execution_count": 13,
     "metadata": {},
     "output_type": "execute_result"
    }
   ],
   "source": [
    "data1[0].shape"
   ]
  },
  {
   "cell_type": "code",
   "execution_count": 13,
   "metadata": {},
   "outputs": [
    {
     "data": {
      "text/plain": [
       "array([1., 1., 0.])"
      ]
     },
     "execution_count": 13,
     "metadata": {},
     "output_type": "execute_result"
    }
   ],
   "source": [
    "import numpy as np\n",
    "\n",
    "X = np.zeros(100)\n",
    "X[2] = 1\n",
    "X[4] = 1\n",
    "x1 = [2, 4, 6]\n",
    "\n",
    "X[x1]"
   ]
  },
  {
   "cell_type": "markdown",
   "metadata": {},
   "source": [
    "## Old dataloader"
   ]
  },
  {
   "cell_type": "code",
   "execution_count": 1,
   "metadata": {},
   "outputs": [],
   "source": [
    "import sys\n",
    "import os\n",
    "from hydra.core.global_hydra import GlobalHydra\n",
    "from hydra import initialize, compose\n",
    "from omegaconf import OmegaConf\n",
    "\n",
    "# os.chdir(\"..\")\n",
    "sys.path.append(\"src\")\n",
    "\n",
    "GlobalHydra.instance().clear()\n",
    "\n",
    "initialize(config_path=\"configs\", version_base=None)\n",
    "\n",
    "cfg = compose(config_name=\"config_partial\")"
   ]
  },
  {
   "cell_type": "code",
   "execution_count": 2,
   "metadata": {},
   "outputs": [
    {
     "name": "stderr",
     "output_type": "stream",
     "text": [
      "/home/athishramdas/Desktop/Pangenome/pangenome-project/src/preprocessing/dataloader.py:176: SettingWithCopyWarning: \n",
      "A value is trying to be set on a copy of a slice from a DataFrame.\n",
      "Try using .loc[row_indexer,col_indexer] = value instead\n",
      "\n",
      "See the caveats in the documentation: https://pandas.pydata.org/pandas-docs/stable/user_guide/indexing.html#returning-a-view-versus-a-copy\n",
      "  df_filtered['serotype_encoded'] = le.fit_transform(df_filtered['Serotype'])\n"
     ]
    }
   ],
   "source": [
    "from preprocessing.dataloader import TFRecordsPartialDataset\n",
    "\n",
    "TFRecordsPartialDataset.initialize_data(cfg)\n",
    "dataset = TFRecordsPartialDataset.from_split(\"train\")"
   ]
  },
  {
   "cell_type": "code",
   "execution_count": 4,
   "metadata": {},
   "outputs": [
    {
     "data": {
      "text/html": [
       "<div>\n",
       "<style scoped>\n",
       "    .dataframe tbody tr th:only-of-type {\n",
       "        vertical-align: middle;\n",
       "    }\n",
       "\n",
       "    .dataframe tbody tr th {\n",
       "        vertical-align: top;\n",
       "    }\n",
       "\n",
       "    .dataframe thead th {\n",
       "        text-align: right;\n",
       "    }\n",
       "</style>\n",
       "<table border=\"1\" class=\"dataframe\">\n",
       "  <thead>\n",
       "    <tr style=\"text-align: right;\">\n",
       "      <th></th>\n",
       "      <th>SRA_ACCESSION_NUMBER</th>\n",
       "      <th>Serotype</th>\n",
       "      <th>Src_file</th>\n",
       "      <th>serotype_encoded</th>\n",
       "    </tr>\n",
       "  </thead>\n",
       "  <tbody>\n",
       "    <tr>\n",
       "      <th>0</th>\n",
       "      <td>DRR002276</td>\n",
       "      <td>Typhimurium</td>\n",
       "      <td>53</td>\n",
       "      <td>9</td>\n",
       "    </tr>\n",
       "    <tr>\n",
       "      <th>1</th>\n",
       "      <td>DRR002277</td>\n",
       "      <td>Typhimurium</td>\n",
       "      <td>53</td>\n",
       "      <td>9</td>\n",
       "    </tr>\n",
       "    <tr>\n",
       "      <th>2</th>\n",
       "      <td>DRR002278</td>\n",
       "      <td>Typhimurium</td>\n",
       "      <td>53</td>\n",
       "      <td>9</td>\n",
       "    </tr>\n",
       "    <tr>\n",
       "      <th>3</th>\n",
       "      <td>DRR002279</td>\n",
       "      <td>Typhimurium</td>\n",
       "      <td>53</td>\n",
       "      <td>9</td>\n",
       "    </tr>\n",
       "    <tr>\n",
       "      <th>4</th>\n",
       "      <td>DRR002280</td>\n",
       "      <td>Infantis</td>\n",
       "      <td>53</td>\n",
       "      <td>2</td>\n",
       "    </tr>\n",
       "    <tr>\n",
       "      <th>...</th>\n",
       "      <td>...</td>\n",
       "      <td>...</td>\n",
       "      <td>...</td>\n",
       "      <td>...</td>\n",
       "    </tr>\n",
       "    <tr>\n",
       "      <th>544979</th>\n",
       "      <td>SRR9999913</td>\n",
       "      <td>Enteritidis</td>\n",
       "      <td>30</td>\n",
       "      <td>0</td>\n",
       "    </tr>\n",
       "    <tr>\n",
       "      <th>544982</th>\n",
       "      <td>SRR9999929</td>\n",
       "      <td>Infantis</td>\n",
       "      <td>30</td>\n",
       "      <td>2</td>\n",
       "    </tr>\n",
       "    <tr>\n",
       "      <th>544983</th>\n",
       "      <td>SRR9999930</td>\n",
       "      <td>Newport</td>\n",
       "      <td>30</td>\n",
       "      <td>6</td>\n",
       "    </tr>\n",
       "    <tr>\n",
       "      <th>544984</th>\n",
       "      <td>SRR9999931</td>\n",
       "      <td>Enteritidis</td>\n",
       "      <td>30</td>\n",
       "      <td>0</td>\n",
       "    </tr>\n",
       "    <tr>\n",
       "      <th>544987</th>\n",
       "      <td>SRR9999934</td>\n",
       "      <td>Newport</td>\n",
       "      <td>30</td>\n",
       "      <td>6</td>\n",
       "    </tr>\n",
       "  </tbody>\n",
       "</table>\n",
       "<p>317141 rows × 4 columns</p>\n",
       "</div>"
      ],
      "text/plain": [
       "       SRA_ACCESSION_NUMBER     Serotype  Src_file  serotype_encoded\n",
       "0                 DRR002276  Typhimurium        53                 9\n",
       "1                 DRR002277  Typhimurium        53                 9\n",
       "2                 DRR002278  Typhimurium        53                 9\n",
       "3                 DRR002279  Typhimurium        53                 9\n",
       "4                 DRR002280     Infantis        53                 2\n",
       "...                     ...          ...       ...               ...\n",
       "544979           SRR9999913  Enteritidis        30                 0\n",
       "544982           SRR9999929     Infantis        30                 2\n",
       "544983           SRR9999930      Newport        30                 6\n",
       "544984           SRR9999931  Enteritidis        30                 0\n",
       "544987           SRR9999934      Newport        30                 6\n",
       "\n",
       "[317141 rows x 4 columns]"
      ]
     },
     "execution_count": 4,
     "metadata": {},
     "output_type": "execute_result"
    }
   ],
   "source": [
    "dataset.tfr_sample_ys_df"
   ]
  }
 ],
 "metadata": {
  "kernelspec": {
   "display_name": "biocs",
   "language": "python",
   "name": "python3"
  },
  "language_info": {
   "codemirror_mode": {
    "name": "ipython",
    "version": 3
   },
   "file_extension": ".py",
   "mimetype": "text/x-python",
   "name": "python",
   "nbconvert_exporter": "python",
   "pygments_lexer": "ipython3",
   "version": "3.12.2"
  }
 },
 "nbformat": 4,
 "nbformat_minor": 2
}
